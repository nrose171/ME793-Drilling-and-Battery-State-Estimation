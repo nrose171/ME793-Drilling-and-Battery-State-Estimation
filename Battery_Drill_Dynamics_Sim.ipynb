{
  "cells": [
    {
      "cell_type": "markdown",
      "id": "1f904b9b-def1-4830-bf0d-47c68d6e4bf1",
      "metadata": {
        "id": "1f904b9b-def1-4830-bf0d-47c68d6e4bf1"
      },
      "source": [
        "# Standard imports"
      ]
    },
    {
      "cell_type": "code",
      "execution_count": null,
      "id": "a969f402-9690-4a2a-af50-b0873f1a8c22",
      "metadata": {
        "id": "a969f402-9690-4a2a-af50-b0873f1a8c22"
      },
      "outputs": [],
      "source": [
        "import numpy as np\n",
        "import matplotlib.pyplot as plt\n",
        "import matplotlib as mpl\n",
        "\n",
        "import pandas as pd\n",
        "from scipy.integrate import odeint, solve_ivp\n",
        "import copy"
      ]
    },
    {
      "cell_type": "markdown",
      "id": "74174dd9-70d5-41f1-a545-7f7d0821f7f2",
      "metadata": {
        "id": "74174dd9-70d5-41f1-a545-7f7d0821f7f2"
      },
      "source": [
        "# Custom imports that are either local or pulled from github"
      ]
    },
    {
      "cell_type": "code",
      "execution_count": null,
      "id": "e89545f0-dc89-487f-b2ef-7dc014772b94",
      "metadata": {
        "id": "e89545f0-dc89-487f-b2ef-7dc014772b94"
      },
      "outputs": [],
      "source": [
        "import sys\n",
        "import requests\n",
        "import importlib\n",
        "\n",
        "def import_local_or_github(package_name, function_name=None, directory=None, giturl=None):\n",
        "    # Import functions directly from github\n",
        "    # Important: note that we use raw.githubusercontent.com, not github.com\n",
        "\n",
        "    try: # to find the file locally\n",
        "        if directory is not None:\n",
        "            if directory not in sys.path:\n",
        "                sys.path.append(directory)\n",
        "\n",
        "        package = importlib.import_module(package_name)\n",
        "        if function_name is not None:\n",
        "            function = getattr(package, function_name)\n",
        "            return function\n",
        "        else:\n",
        "            return package\n",
        "\n",
        "    except: # get the file from github\n",
        "        if giturl is None:\n",
        "            giturl = 'https://raw.githubusercontent.com/florisvb/Nonlinear_and_Data_Driven_Estimation/main/Utility/' + str(package_name) + '.py'\n",
        "\n",
        "        r = requests.get(giturl)\n",
        "        print('Fetching from: ')\n",
        "        print(r)\n",
        "\n",
        "        # Store the file to the colab working directory\n",
        "        with open(package_name+'.py', 'w') as f:\n",
        "            f.write(r.text)\n",
        "        f.close()\n",
        "\n",
        "        # import the function we want from that file\n",
        "        package = importlib.import_module(package_name)\n",
        "        if function_name is not None:\n",
        "            function = getattr(package , function_name)\n",
        "            return function\n",
        "        else:\n",
        "            return package\n",
        "\n",
        "plot_tme = import_local_or_github('plot_utility', 'plot_tme', directory='../Utility')"
      ]
    },
    {
      "cell_type": "markdown",
      "id": "683faff7-aa4b-4eca-aa96-d86198d54bd4",
      "metadata": {
        "id": "683faff7-aa4b-4eca-aa96-d86198d54bd4"
      },
      "source": [
        "# Imports related to model predictive control and pybounds"
      ]
    },
    {
      "cell_type": "code",
      "execution_count": null,
      "id": "13e2b1b4-19ec-4575-a3c2-c007698c41c2",
      "metadata": {
        "id": "13e2b1b4-19ec-4575-a3c2-c007698c41c2"
      },
      "outputs": [],
      "source": [
        "try:\n",
        "    import math\n",
        "except:\n",
        "    !pip install math\n",
        "    import math\n",
        "try:\n",
        "    import casadi\n",
        "except:\n",
        "    !pip install casadi\n",
        "    import casadi\n",
        "\n",
        "try:\n",
        "    import do_mpc\n",
        "except:\n",
        "    !pip install do_mpc\n",
        "    import do_mpc\n",
        "\n",
        "try:\n",
        "    import pybounds\n",
        "except:\n",
        "    #!pip install pybounds\n",
        "    !pip install git+https://github.com/vanbreugel-lab/pybounds\n",
        "    import pybounds"
      ]
    },
    {
      "cell_type": "markdown",
      "id": "fcb1cb7f-dde4-49bb-9569-b205e8ea4acd",
      "metadata": {
        "id": "fcb1cb7f-dde4-49bb-9569-b205e8ea4acd"
      },
      "source": [
        "# Battery-Drill dynamics."
      ]
    },
    {
      "cell_type": "markdown",
      "id": "349d6d26-ff8d-4a7e-bd79-fbe9638a18fc",
      "metadata": {
        "id": "349d6d26-ff8d-4a7e-bd79-fbe9638a18fc"
      },
      "source": [
        "# Set some constant parameters (the pink symbols above)"
      ]
    },
    {
      "cell_type": "code",
      "execution_count": null,
      "id": "c527e3eb-47d5-4f20-83ea-5b6bcb273148",
      "metadata": {
        "id": "c527e3eb-47d5-4f20-83ea-5b6bcb273148"
      },
      "outputs": [],
      "source": [
        "params = {\n",
        "  'Q': 50.0, # Battery Capacity (mAh)\n",
        "  'R0': 0.05, # Ohmic resistance (ohms)\n",
        "  'R_rc': 0.5, # RC branch resistance (ohms)\n",
        "  'C_rc': 50.0, # RC branch capacitance (Farads)\n",
        "  'm_d': 5.0, # mass (kg)\n",
        "  'r_d': 0.1, # drill base radius (m)\n",
        "  'k_F': 2.0, # Force constant for linear actuator\n",
        "  'k_tau': 4.0, # Torque constant for rotary drill\n",
        "  'eta_F': 0.6, # Linear actuator battery efficiency\n",
        "  'eta_tau': 0.5, # Rotary drill battery efficiency\n",
        "  'eta': 0.5, # Total drill efficiency\n",
        "  'V_min': 3.0, # Minimum voltage of battery\n",
        "  'V_max': 12.0, # Maximum voltage of battery\n",
        "  'k_z': 1.0, # Soil Stiffness parameter\n",
        "  'c_z': 1.0, # Soil damping parameter\n",
        "  'k_omega': 2.0, # Soil friction parameter\n",
        "  'c_omega': 0.1, # Viscous rotational resistance\n",
        "  'a0': -2.0,\n",
        "  'a1': 4.0,\n",
        "  'a2': 7.0,\n",
        "  'F_load': 1.0, # Resistive linear force of soil (N)\n",
        "  'tau_load': 1.0, # Resistive torque of soil (N*m)\n",
        "}\n",
        "\n",
        "params['a3'] = params[\"V_min\"]\n",
        "params['Q_sec'] = (params[\"Q\"] * 60.0 * 60.0) / 1000.0 # Battery Capacity (A sec)\n",
        "params['i_zz'] = round(0.3 * params[\"m_d\"] * (params[\"r_d\"]**2.0), 3) # moment of inertia (kg*m^2)\n",
        "\n",
        "print(params)\n",
        "\n",
        "I_list = []\n",
        "I_list.append(0.0)\n",
        "u_list = []"
      ]
    },
    {
      "cell_type": "markdown",
      "id": "Pzm6T5w3GMrx",
      "metadata": {
        "id": "Pzm6T5w3GMrx"
      },
      "source": [
        "# Set some helper functions"
      ]
    },
    {
      "cell_type": "code",
      "execution_count": null,
      "id": "rSO2qMfxxtTS",
      "metadata": {
        "id": "rSO2qMfxxtTS"
      },
      "outputs": [],
      "source": [
        "# Nonlinear VOC function for battery\n",
        "def voc_func(s):\n",
        "\n",
        "    a0 = params[\"a0\"]\n",
        "    a1 = params[\"a1\"]\n",
        "    a2 = params[\"a2\"]\n",
        "    a3 = params[\"a3\"]\n",
        "\n",
        "    V_oc = a0*s**3.0 + a1*s**2.0 + a2*s + a3\n",
        "\n",
        "    return V_oc\n",
        "\n",
        "def terminal_voltage_quadratic(s, v_rc, P_mech, params):\n",
        "    \"\"\"\n",
        "    Solve the quadratic for terminal voltage V_term.\n",
        "\n",
        "    Inputs\n",
        "    ------\n",
        "    s : float\n",
        "        Battery state of charge (SOC)\n",
        "    v_rc : float\n",
        "        RC branch voltage\n",
        "    P_mech : float\n",
        "        Mechanical power load (F_load * z_dot + tau_load * omega)\n",
        "    params : dict\n",
        "        Parameter dictionary with at least:\n",
        "        - \"V_min\", \"V_max\", \"R0\"\n",
        "    voc_func : callable\n",
        "        Function returning open-circuit voltage: V_oc = voc_func(s, V_min, V_max)\n",
        "\n",
        "    Returns\n",
        "    -------\n",
        "    V_term : float\n",
        "        Terminal voltage (positive root of quadratic, with guards)\n",
        "    \"\"\"\n",
        "\n",
        "    # Open-circuit voltage\n",
        "    V_min = params[\"V_min\"]\n",
        "    V_max = params[\"V_max\"]\n",
        "    R0    = params[\"R0\"]\n",
        "    eta = params[\"eta\"]\n",
        "\n",
        "    V_oc  = voc_func(s)\n",
        "\n",
        "    # Quadratic coefficients\n",
        "    a = 1.0\n",
        "    b = V_oc - v_rc\n",
        "    c = (R0 / max(eta, 1e-12)) * P_mech\n",
        "\n",
        "    # Discriminant\n",
        "    disc = b**2 - 4*a*c\n",
        "\n",
        "    if disc < 0:\n",
        "        if disc > -1e-12:\n",
        "            # Clamp very small negative due to floating-point\n",
        "            disc = 0.0\n",
        "        else:\n",
        "            # Fallback if no real solution: use safe approx\n",
        "            V_term = max(V_oc - v_rc, V_min)\n",
        "            return V_term\n",
        "\n",
        "    # Positive root\n",
        "    V_term = (b + np.sqrt(disc)) / (2*a)\n",
        "\n",
        "    # Ensure physically valid voltage\n",
        "    if V_term < V_min:\n",
        "        V_term = V_min\n",
        "    elif V_term > V_max:\n",
        "        V_term = V_max\n",
        "\n",
        "    return V_term"
      ]
    },
    {
      "cell_type": "markdown",
      "id": "8821e299-aa98-4222-88b4-64cbe1507311",
      "metadata": {
        "id": "8821e299-aa98-4222-88b4-64cbe1507311"
      },
      "source": [
        "# Define your dynamics function\n",
        "\n",
        "We will use this same format many times, for evaluating observability and Kalman filters.\n",
        "\n",
        "<span style=\"color:blue;\">AI tip: try an LLM to convert a picture of the dynamics, or the latex code, to a python function. You may have to correct it!"
      ]
    },
    {
      "cell_type": "code",
      "execution_count": null,
      "id": "3e7f724e-0938-4a28-89be-5b1c7970ba49",
      "metadata": {
        "id": "3e7f724e-0938-4a28-89be-5b1c7970ba49"
      },
      "outputs": [],
      "source": [
        "def battery_drill_dynamics(x, u, params=params):\n",
        "    \"\"\"\n",
        "    Continuous-time dynamics for the drilling and battery system.\n",
        "\n",
        "    Inputs\n",
        "    ------\n",
        "    x : array_like, shape (13,)\n",
        "        State vector [s, v_rc, v_term, P_mech, z, z_dot, omega, k_F, k_tau, F_load, tau_load, u_F, u_tau]\n",
        "        s      : battery SOC\n",
        "        v_rc   : RC branch voltage\n",
        "        v_term : Terminal voltage\n",
        "        P_mech : Applied mechanical power\n",
        "        z      : drill penetration depth\n",
        "        z_dot  : drill penetration speed\n",
        "        omega  : drill rotational speed\n",
        "        k_F    : control force constant\n",
        "        k_tau  : control torque constant\n",
        "        F_load : resistive force constant\n",
        "        tau_load : resistive torque constant\n",
        "        u_F    : linear actuator force input\n",
        "        u_tau  : drill motor torque input\n",
        "\n",
        "    u : array_like, shape (2,)\n",
        "        Control vector [du_F, du_tau]\n",
        "        du_F : derivative of u_F\n",
        "        du_tau : derivative of u_tau\n",
        "\n",
        "    params : dict\n",
        "        Dictionary of system parameters:\n",
        "        Q      : battery capacity (mAh)\n",
        "        Q_sec  : battery capacity (As)\n",
        "        R0     : ohmic resistance\n",
        "        R_rc   : RC resistance\n",
        "        C_rc   : RC capacitance\n",
        "        m_d    : drill mass\n",
        "        i_zz   : drill inertia\n",
        "        eta_F  : actuator efficiency\n",
        "        eta_tau : motor efficiency\n",
        "        V_min : minimum voltage\n",
        "        V_max : maximum voltage\n",
        "\n",
        "\n",
        "    Output\n",
        "    ------\n",
        "    x_dot : ndarray, shape (13,)\n",
        "        Time derivative of state vector\n",
        "    \"\"\"\n",
        "\n",
        "    # Unpack state variables\n",
        "    s = x[0]\n",
        "    v_rc = x[1]\n",
        "    v_term = x[2]\n",
        "    P_mech = x[3]\n",
        "    z = x[4]\n",
        "    z_dot = x[5]\n",
        "    omega = x[6]\n",
        "    k_F = x[7]\n",
        "    k_tau = x[8]\n",
        "    F_load = x[9]\n",
        "    tau_load = x[10]\n",
        "    u_F = x[11]\n",
        "    u_tau = x[12]\n",
        "\n",
        "    # Unpack controls\n",
        "    du_F = u[0]\n",
        "    du_tau = u[1]\n",
        "\n",
        "    # Unpack parameters\n",
        "    Q = params[\"Q\"]\n",
        "    Q_sec = params[\"Q_sec\"]\n",
        "    R0 = params[\"R0\"]\n",
        "    R = params[\"R_rc\"]\n",
        "    C = params[\"C_rc\"]\n",
        "    m_d = params[\"m_d\"]\n",
        "    i_zz = params[\"i_zz\"]\n",
        "    eta = params[\"eta\"]\n",
        "    V_min = params[\"V_min\"]\n",
        "    V_max = params[\"V_max\"]\n",
        "    a0 = params[\"a0\"]\n",
        "    a1 = params[\"a1\"]\n",
        "    a2 = params[\"a2\"]\n",
        "\n",
        "    # Safety protocols for battery values\n",
        "    # s = s.clip(1e-6, 1.0) # Removed clip for Casadi compatibility\n",
        "    # v_term = v_term.clip(params[\"V_min\"], params[\"V_max\"]) # Removed clip for Casadi compatibility\n",
        "\n",
        "\n",
        "    # Mechanical power and its derivative\n",
        "    P_mech = k_F * u_F * z_dot + k_tau * u_tau * omega\n",
        "    # P_mech_dot = (k_F**2.0 * u_F**2.0 - k_F * u_F * F_load)/(m_d) \\\n",
        "    #             + (k_tau**2.0 * u_tau**2.0 - k_tau * u_tau * tau_load)/(m_d) \\\n",
        "    #             + k_F * du_F * z_dot + k_tau * du_tau * omega\n",
        "    P_mech_dot = k_F * u_F * (1/m_d) * (k_F * u_F - F_load) \\\n",
        "                + k_tau * u_tau * (1/i_zz) * (k_tau * u_tau - tau_load) \\\n",
        "                + k_F * du_F * z_dot + k_tau * du_tau * omega\n",
        "\n",
        "    # Battery SOC\n",
        "    s_dot = (-eta * P_mech) / (Q * v_term)\n",
        "\n",
        "    # OCV derivative (polynomial)\n",
        "    VOC_dot_poly = 3.0*a0*s**2.0 + 2.0*a1*s + a2\n",
        "    VOC_dot = VOC_dot_poly * s_dot\n",
        "\n",
        "    # Thevenin capacitor voltage\n",
        "    v_rc_dot = (-v_rc / (R * C)) + (eta * P_mech / (C * v_term))\n",
        "\n",
        "    # Terminal voltage derivative (solved explicit form)\n",
        "    Vterm_num = VOC_dot * v_term**2.0 - R0 * eta * P_mech_dot * v_term - v_rc_dot * v_term**2.0\n",
        "    Vterm_den = v_term**2.0 - R0 * eta * P_mech\n",
        "    # if Vterm_den == 0: # This check is not needed with Casadi symbolic variables\n",
        "    Vterm_den = Vterm_den + 1e-6 # avoid divide by zero\n",
        "    Vterm_dot = Vterm_num / (Vterm_den)\n",
        "\n",
        "    # Drill kinematics\n",
        "    z_ddot = (k_F * u_F - F_load) / m_d\n",
        "    omega_dot = (k_tau * u_tau - tau_load) / i_zz\n",
        "\n",
        "    # pack x_dot consistent with your state ordering\n",
        "    x_dot = np.array([\n",
        "        s_dot,\n",
        "        v_rc_dot,\n",
        "        Vterm_dot,\n",
        "        P_mech_dot,\n",
        "        z_dot,\n",
        "        z_ddot,\n",
        "        omega_dot,\n",
        "        0.0,\n",
        "        0.0,\n",
        "        0.0,\n",
        "        0.0,\n",
        "        du_F,\n",
        "        du_tau,\n",
        "    ])\n",
        "\n",
        "    # combined dynamics\n",
        "    # x_dot = f0_contribution + f1_contribution + f2_contribution\n",
        "\n",
        "    # Safety terms\n",
        "    # x_dot[0] = np.clip(x_dot[0], 1e-3, 1.0) # Removed clip for Casadi compatibility\n",
        "    # x_dot[1] = np.clip(x_dot[1], V_min, V_max) # Removed clip for Casadi compatibility\n",
        "\n",
        "    return x_dot"
      ]
    },
    {
      "cell_type": "markdown",
      "id": "fb81a825-aff4-47cd-828f-b6deefa0ad02",
      "metadata": {
        "id": "fb81a825-aff4-47cd-828f-b6deefa0ad02"
      },
      "source": [
        "# Measurements"
      ]
    },
    {
      "cell_type": "code",
      "source": [
        "measurement_flags = {\n",
        "                     's': False,\n",
        "                     'v_rc': True,\n",
        "                     'v_term': True,\n",
        "                     'P_mech': True,\n",
        "                     'z': True,\n",
        "                     'z_dot': False,\n",
        "                     'omega': True,\n",
        "                     'k_F': False,\n",
        "                     'k_tau': False,\n",
        "                     'F_load': False,\n",
        "                     'tau_load': False,\n",
        "                     'u_F': True,\n",
        "                     'u_tau': True,\n",
        "                    }\n",
        "\n",
        "measurement_noise_stds = {\n",
        "                          's': 0.1,\n",
        "                          'v_rc': 0.2,\n",
        "                          'v_term': 0.2,\n",
        "                          'P_mech': 0.2,\n",
        "                          'z': 0.2,\n",
        "                          'z_dot': 0.2,\n",
        "                          'omega': 0.2,\n",
        "                          'k_F': 0.1,\n",
        "                          'k_tau': 0.1,\n",
        "                          'F_load': 0.1,\n",
        "                          'tau_load': 0.1,\n",
        "                          'u_F': 0.01,\n",
        "                          'u_tau': 0.01,\n",
        "                         }\n",
        "\n",
        "# Get measurement names:\n",
        "measurement_names = []\n",
        "for key in measurement_flags.keys():\n",
        "  if measurement_flags[key]:\n",
        "    measurement_names.append(key)\n",
        "\n",
        "print(measurement_names)"
      ],
      "metadata": {
        "id": "5fOjq6Xdfr6c"
      },
      "id": "5fOjq6Xdfr6c",
      "execution_count": null,
      "outputs": []
    },
    {
      "cell_type": "code",
      "execution_count": null,
      "id": "1c7979f0-f9a2-44d4-8e19-da0142038fb3",
      "metadata": {
        "id": "1c7979f0-f9a2-44d4-8e19-da0142038fb3"
      },
      "outputs": [],
      "source": [
        "def h(x, u):\n",
        "    flags = measurement_flags\n",
        "\n",
        "    # Unpack controls\n",
        "    du_F = u[0]\n",
        "    du_tau = u[1]\n",
        "\n",
        "    # Measurements\n",
        "    y_vec = []\n",
        "    i = 0\n",
        "    for key in flags.keys():\n",
        "        if flags[key]:\n",
        "            y_vec.append(x[i])\n",
        "        i += 1\n",
        "\n",
        "    # Return measurement\n",
        "    return y_vec"
      ]
    },
    {
      "cell_type": "markdown",
      "id": "e38d4002-ac01-4e6c-90b9-6719473dc97e",
      "metadata": {
        "id": "e38d4002-ac01-4e6c-90b9-6719473dc97e"
      },
      "source": [
        "# Simulate with pybounds / MPC"
      ]
    },
    {
      "cell_type": "code",
      "execution_count": null,
      "id": "6165e84d-fd0b-4d69-b7d8-cd81bfee81bb",
      "metadata": {
        "id": "6165e84d-fd0b-4d69-b7d8-cd81bfee81bb"
      },
      "outputs": [],
      "source": [
        "import pybounds"
      ]
    },
    {
      "cell_type": "code",
      "execution_count": null,
      "id": "f7de7b9f-f08f-4681-8652-91dba594e4fa",
      "metadata": {
        "id": "f7de7b9f-f08f-4681-8652-91dba594e4fa"
      },
      "outputs": [],
      "source": [
        "state_names = ['s', 'v_rc', 'v_term', 'P_mech', 'z', 'z_dot', 'omega','k_F','k_tau', 'F_load', 'tau_load', 'u_F', 'u_tau', ]\n",
        "input_names = ['du_F', 'du_tau']\n",
        "# input_names = ['u_F', 'u_tau']\n",
        "# measurement_names = ['s', 'v_rc', 'v_term', 'P_mech', 'z', 'omega', 'k_F', 'k_tau', 'F_load', 'tau_load']"
      ]
    },
    {
      "cell_type": "code",
      "execution_count": null,
      "id": "69fac758-5bc3-40f7-ac57-97430decf58b",
      "metadata": {
        "id": "69fac758-5bc3-40f7-ac57-97430decf58b"
      },
      "outputs": [],
      "source": [
        "dt = 0.1  # [s]"
      ]
    },
    {
      "cell_type": "code",
      "execution_count": null,
      "id": "6830d6aa-72fe-44de-9d6e-1cd9fb44689f",
      "metadata": {
        "id": "6830d6aa-72fe-44de-9d6e-1cd9fb44689f"
      },
      "outputs": [],
      "source": [
        "simulator = pybounds.Simulator(battery_drill_dynamics, h, dt=dt, state_names=state_names,\n",
        "                               input_names=input_names, measurement_names=measurement_names, mpc_horizon=10)\n"
      ]
    },
    {
      "cell_type": "code",
      "execution_count": null,
      "id": "I3_wAfrsrSAj",
      "metadata": {
        "id": "I3_wAfrsrSAj"
      },
      "outputs": [],
      "source": [
        "# Desired linear/angular speeds\n",
        "speed_coeff_F = 1.0 #m/s\n",
        "speed_coeff_omega = 10.0 #rad/s"
      ]
    },
    {
      "cell_type": "code",
      "execution_count": null,
      "id": "3c1aba1b-1c47-4246-92c3-a1d9481f5c7c",
      "metadata": {
        "id": "3c1aba1b-1c47-4246-92c3-a1d9481f5c7c"
      },
      "outputs": [],
      "source": [
        "# First define the set-point(s) to follow\n",
        "end_t = 30.0\n",
        "tsim = np.arange(0, end_t, step=dt)\n",
        "NA = np.zeros_like(tsim)\n",
        "\n",
        "traj_type = 'sinusoidal'\n",
        "\n",
        "if traj_type == 'constant':\n",
        "  z_dot_traj = speed_coeff_F*np.ones_like(tsim)\n",
        "  omega_traj = speed_coeff_omega*np.ones_like(tsim)\n",
        "elif traj_type == 'sinusoidal':\n",
        "  # z_dot_traj = (speed_coeff_F/2.0*np.sin(2.0*np.pi*tsim - np.pi / 2.0) + speed_coeff_F/2.0) + 0.1\n",
        "  # omega_traj = (speed_coeff_omega/2.0*np.sin(2.0*np.pi*tsim - np.pi / 2.0) + speed_coeff_omega/2.0) + 0.1\n",
        "  z_dot_traj = speed_coeff_F*(np.sin(tsim)+1.0)\n",
        "  omega_traj = speed_coeff_omega*(np.sin(tsim)+1.0)\n",
        "elif traj_type == 'const_increasing':\n",
        "  z_dot_traj = speed_coeff_F*tsim*np.ones_like(tsim)\n",
        "  omega_traj = speed_coeff_omega*tsim*np.ones_like(tsim)\n",
        "\n",
        "setpoint = {'s': NA,\n",
        "            'v_rc': NA,\n",
        "            'v_term': NA,\n",
        "            'P_mech': NA,\n",
        "            'z': NA,\n",
        "            'z_dot': z_dot_traj,\n",
        "            'omega': omega_traj,\n",
        "            'k_F': params['k_F'] * np.ones_like(tsim),\n",
        "            'k_tau': params['k_tau'] * np.ones_like(tsim),\n",
        "            'F_load': params['F_load'] * np.ones_like(tsim),\n",
        "            'tau_load': params['tau_load'] * np.ones_like(tsim),\n",
        "            'u_F': NA,\n",
        "            'u_tau': NA,\n",
        "           }"
      ]
    },
    {
      "cell_type": "code",
      "execution_count": null,
      "id": "ca9f70a8-2d99-48a6-967e-81b40a4e700c",
      "metadata": {
        "id": "ca9f70a8-2d99-48a6-967e-81b40a4e700c"
      },
      "outputs": [],
      "source": [
        "# Update the simulator set-point\n",
        "simulator.update_dict(setpoint, name='setpoint')"
      ]
    },
    {
      "cell_type": "code",
      "execution_count": null,
      "id": "ffa19c72-cdaf-4b0b-be92-2b0ea8971a70",
      "metadata": {
        "id": "ffa19c72-cdaf-4b0b-be92-2b0ea8971a70"
      },
      "outputs": [],
      "source": [
        "# Define MPC cost function: penalize the squared error between the setpoint for g and the true g\n",
        "cost_z = (simulator.model.x['z_dot'] - simulator.model.tvp['z_dot_set']) ** 2\n",
        "cost_omega = (simulator.model.x['omega'] - simulator.model.tvp['omega_set']) ** 2\n",
        "# cost_kF = (simulator.model.x['k_F'] - simulator.model.tvp['k_F_set']) ** 2\n",
        "# cost_ktau = (simulator.model.x['k_tau'] - simulator.model.tvp['k_tau_set']) ** 2\n",
        "cost = cost_z + cost_omega #+ cost_k"
      ]
    },
    {
      "cell_type": "code",
      "execution_count": null,
      "id": "b3f690de-56d8-4c4c-947b-a8de493c9fde",
      "metadata": {
        "id": "b3f690de-56d8-4c4c-947b-a8de493c9fde"
      },
      "outputs": [],
      "source": [
        "# Set cost function\n",
        "simulator.mpc.set_objective(mterm=cost, lterm=cost)  # objective function\n",
        "\n",
        "# Set input penalty: make this small for accurate state tracking\n",
        "# simulator.mpc.set_rterm(j1=1e-4, j2=1e-4)"
      ]
    },
    {
      "cell_type": "code",
      "execution_count": null,
      "id": "c5ec8eac-a51e-4f64-9743-b3c21c190c00",
      "metadata": {
        "id": "c5ec8eac-a51e-4f64-9743-b3c21c190c00"
      },
      "outputs": [],
      "source": [
        "# State bounds\n",
        "simulator.mpc.bounds['lower', '_x', 's'] = 1e-3\n",
        "simulator.mpc.bounds['upper', '_x', 's'] = 1.0\n",
        "simulator.mpc.bounds['lower', '_x', 'v_term'] = params['V_min']\n",
        "simulator.mpc.bounds['upper', '_x', 'v_term'] = params['V_max']\n",
        "simulator.mpc.bounds['lower', '_x', 'P_mech'] = 1e-3\n",
        "simulator.mpc.bounds['upper', '_x', 'P_mech'] = 1e6\n",
        "simulator.mpc.bounds['lower', '_x', 'z'] = 1e-3\n",
        "simulator.mpc.bounds['lower', '_x', 'z_dot'] = 0.0 # Modified lower bound\n",
        "simulator.mpc.bounds['upper', '_x', 'z_dot'] = 1e6\n",
        "simulator.mpc.bounds['lower', '_x', 'omega'] = 0.0 # Modified lower bound\n",
        "simulator.mpc.bounds['upper', '_x', 'omega'] = 1e6\n",
        "\n",
        "# # Input bounds\n",
        "# simulator.mpc.bounds['lower', '_x', 'u_F'] = -100.0\n",
        "# simulator.mpc.bounds['upper', '_x', 'u_F'] = 100.0\n",
        "# simulator.mpc.bounds['lower', '_x', 'u_tau'] = -100.0\n",
        "# simulator.mpc.bounds['upper', '_x', 'u_tau'] = 100.0\n",
        "\n",
        "# # Bounds on the rate of change of control inputs\n",
        "# simulator.mpc.bounds['lower', '_u', 'du_F'] = -100.0 # Adjusted bounds\n",
        "# simulator.mpc.bounds['upper', '_u', 'du_F'] = 100.0 # Adjusted bounds\n",
        "# simulator.mpc.bounds['lower', '_u', 'du_tau'] = -100.0 # Adjusted bounds\n",
        "# simulator.mpc.bounds['upper', '_u', 'du_tau'] = 100.0 # Adjusted bounds\n",
        "\n",
        "# simulator.mpc.set_rterm(u_F=1e-2, u_tau=10.0, du_F=100.0, du_tau=100.0)\n",
        "# simulator.mpc.set_rterm(du_F=1e-4, du_tau=1e-4)\n",
        "simulator.mpc.set_rterm(du_F=1e-4, du_tau=1.0)"
      ]
    },
    {
      "cell_type": "code",
      "execution_count": null,
      "id": "YLXqRVFioLla",
      "metadata": {
        "id": "YLXqRVFioLla"
      },
      "outputs": [],
      "source": [
        "# initial condition\n",
        "# Calculate initial terminal voltage using the quadratic solver for consistency\n",
        "s0 = 0.99\n",
        "v0_rc = 0.0\n",
        "P0_mech = 0.0  # Assuming no initial mechanical load\n",
        "v0_term = terminal_voltage_quadratic(s0, v0_rc, P0_mech, params)\n",
        "z0_dot = speed_coeff_F\n",
        "omega0 = speed_coeff_omega\n",
        "\n",
        "# if traj_type == 'sinusoidal':\n",
        "#   uF_0 = (params[\"k_F\"] * speed_coeff_F*np.cos(0.0) - params[\"F_load\"]) / params[\"m_d\"]\n",
        "#   utau_0 = (params[\"k_tau\"] * speed_coeff_omega*np.cos(0.0) - params[\"tau_load\"]) / params[\"i_zz\"]\n",
        "\n",
        "uF_0 = 0.0\n",
        "utau_0 = 0.0\n",
        "\n",
        "\n",
        "x0 = np.array([s0, v0_rc, v0_term, P0_mech, 0.0, z0_dot, omega0, params[\"k_F\"], params[\"k_tau\"], params[\"F_load\"], params[\"tau_load\"], uF_0, utau_0])"
      ]
    },
    {
      "cell_type": "code",
      "execution_count": null,
      "id": "cfaa8cab-5c0f-42c7-b006-9914e01ceb14",
      "metadata": {
        "id": "cfaa8cab-5c0f-42c7-b006-9914e01ceb14"
      },
      "outputs": [],
      "source": [
        "# Run simulation using MPC\n",
        "t_sim, x_sim, u_sim, y_sim = simulator.simulate(x0=x0, u=None, mpc=True, return_full_output=True)"
      ]
    },
    {
      "cell_type": "markdown",
      "source": [
        "# Plot Controls and Trajectory"
      ],
      "metadata": {
        "id": "CsHAayFXmafR"
      },
      "id": "CsHAayFXmafR"
    },
    {
      "cell_type": "code",
      "execution_count": null,
      "id": "sfU3NFIKPZmo",
      "metadata": {
        "id": "sfU3NFIKPZmo"
      },
      "outputs": [],
      "source": [
        "plt.plot(t_sim, u_sim['du_F'], label='du_F', color='red')\n",
        "plt.plot(t_sim, u_sim['du_tau'], label='du_tau', color='yellow')\n",
        "plt.title('Controls')\n",
        "simulator.plot('setpoint')\n",
        "plt.show()"
      ]
    },
    {
      "cell_type": "code",
      "source": [
        "u_sim_df = pd.DataFrame(u_sim)\n",
        "x_sim_df = pd.DataFrame(x_sim)"
      ],
      "metadata": {
        "id": "txDGWYd9fdfD"
      },
      "id": "txDGWYd9fdfD",
      "execution_count": null,
      "outputs": []
    },
    {
      "cell_type": "markdown",
      "source": [
        "# Observability analysis"
      ],
      "metadata": {
        "id": "W6ftrx9Pfyal"
      },
      "id": "W6ftrx9Pfyal"
    },
    {
      "cell_type": "code",
      "source": [
        "w = 12  # window size, set to None to use entire time-series as one window"
      ],
      "metadata": {
        "id": "Y6rOnjxnfy3f"
      },
      "id": "Y6rOnjxnfy3f",
      "execution_count": null,
      "outputs": []
    },
    {
      "cell_type": "markdown",
      "source": [
        "### This is the computationally heavy step\n",
        "\n",
        "Here we calculate the observability matrix for each sliding window, all the states, and measurements. Later we can subselect from this to choose specific time steps, measurements, states, etc. to consider."
      ],
      "metadata": {
        "id": "gQAWSF0Lf3yh"
      },
      "id": "gQAWSF0Lf3yh"
    },
    {
      "cell_type": "code",
      "source": [
        "# Construct O in sliding windows\n",
        "SEOM = pybounds.SlidingEmpiricalObservabilityMatrix(simulator, t_sim, x_sim, u_sim, w=w, eps=1e-4)\n",
        "\n",
        "# Get O's\n",
        "O_sliding = SEOM.get_observability_matrix()"
      ],
      "metadata": {
        "id": "65KQEK6Zf6fu"
      },
      "id": "65KQEK6Zf6fu",
      "execution_count": null,
      "outputs": []
    },
    {
      "cell_type": "code",
      "source": [
        "n_window = len(O_sliding)\n",
        "print(n_window, 'windows')\n",
        "O_sliding[0]"
      ],
      "metadata": {
        "id": "qufukmRpf8KJ"
      },
      "id": "qufukmRpf8KJ",
      "execution_count": null,
      "outputs": []
    },
    {
      "cell_type": "code",
      "metadata": {
        "id": "3b61748d-f325-4b6d-a33b-5b9df73ee150"
      },
      "source": [
        "max_rank = 0\n",
        "for i, O_matrix in enumerate(O_sliding):\n",
        "  rank = np.linalg.matrix_rank(O_matrix)\n",
        "  if rank > max_rank:\n",
        "    max_rank = rank\n",
        "  # print(f\"Rank of O_sliding[{i}]: {rank}\")\n",
        "\n",
        "print(f\"Maximum rank of O_sliding: {max_rank}\")"
      ],
      "id": "3b61748d-f325-4b6d-a33b-5b9df73ee150",
      "execution_count": null,
      "outputs": []
    },
    {
      "cell_type": "markdown",
      "source": [
        "### Convert a single observability matrix into fisher information\n",
        "\n",
        "$F = \\mathcal{O}_w^T R_w^{-1} \\mathcal{O}_w$"
      ],
      "metadata": {
        "id": "AGfeAmvpgB5U"
      },
      "id": "AGfeAmvpgB5U"
    },
    {
      "cell_type": "code",
      "source": [
        "# measurement_noise_vars = {key: val**2 for key, val in measurement_noise_stds.items()}\n",
        "measurement_noise_vars = {}\n",
        "for name in measurement_names:\n",
        "  measurement_noise_vars[name] = measurement_noise_stds[name]**2.0\n",
        "\n",
        "print(measurement_noise_vars.keys())\n",
        "\n",
        "# Compute the Fisher information & Chernoff inverse\n",
        "FO = pybounds.FisherObservability(SEOM.O_df_sliding[0], measurement_noise_vars, lam=1e-8)\n",
        "\n",
        "# Get the Fisher information, inverse, and R matrix\n",
        "F, F_inv, R = FO.get_fisher_information()\n",
        "F_inv"
      ],
      "metadata": {
        "id": "D3cIc7YQgD2m"
      },
      "id": "D3cIc7YQgD2m",
      "execution_count": null,
      "outputs": []
    },
    {
      "cell_type": "markdown",
      "source": [
        "### Efficiently repeat the above process for a specific set of sensors, states, and time points"
      ],
      "metadata": {
        "id": "BzUpcp-vgLTg"
      },
      "id": "BzUpcp-vgLTg"
    },
    {
      "cell_type": "code",
      "source": [
        "# from os import O_SHORT_LIVED\n",
        "# Choose sensors to use from O -- you can select a subset from the available measurements\n",
        "o_sensors = measurement_names\n",
        "\n",
        "# Chose states to use from O\n",
        "# o_states = ['s', 'v_rc', 'v_term', 'P_mech', 'z', 'z_dot', 'omega', 'k_F', 'k_tau', 'F_load', 'tau_load', 'u_F', 'u_tau']\n",
        "o_states = ['s', 'v_rc', 'v_term', 'P_mech', 'z', 'z_dot', 'omega']\n",
        "\n",
        "# Choose time-steps to use from O\n",
        "window_size = 6 # this cannot be larger than what was defined above\n",
        "o_time_steps = np.arange(0, window_size, step=1)\n",
        "\n",
        "# Redefine R -- if you remove a sensor you need to change R\n",
        "o_measurement_noise_vars = {key: measurement_noise_vars[key] for key in o_sensors}\n",
        "\n",
        "print(measurement_names)\n",
        "print(o_measurement_noise_vars)"
      ],
      "metadata": {
        "id": "hYc1DwRBgNXH"
      },
      "id": "hYc1DwRBgNXH",
      "execution_count": null,
      "outputs": []
    },
    {
      "cell_type": "code",
      "source": [
        "# Compute the Fisher information & inverse for each window and store the minimum error variance\n",
        "SFO = pybounds.SlidingFisherObservability(SEOM.O_df_sliding, time=SEOM.t_sim, lam=1e-8, R=o_measurement_noise_vars,\n",
        "                                 states=o_states, sensors=o_sensors, time_steps=o_time_steps, w=None)\n",
        "\n",
        "# If you want to manually inspect one of the fisher info matrices:\n",
        "# SFO.FO[1].O"
      ],
      "metadata": {
        "id": "vXN9JGYGgOt7"
      },
      "id": "vXN9JGYGgOt7",
      "execution_count": null,
      "outputs": []
    },
    {
      "cell_type": "code",
      "source": [
        "# Pull out minimum error variance, 'time' column is the time vector shifted forward by w/2 and 'time_initial' is the original time\n",
        "EV_aligned = SFO.get_minimum_error_variance()"
      ],
      "metadata": {
        "id": "40R2wIwRgQFj"
      },
      "id": "40R2wIwRgQFj",
      "execution_count": null,
      "outputs": []
    },
    {
      "cell_type": "code",
      "source": [
        "EV_no_nan = EV_aligned.fillna(method='bfill').fillna(method='ffill')\n",
        "# EV_no_nan = EV_aligned.fillna(0)"
      ],
      "metadata": {
        "id": "7QZf1Zu2gRbq"
      },
      "id": "7QZf1Zu2gRbq",
      "execution_count": null,
      "outputs": []
    },
    {
      "cell_type": "markdown",
      "source": [
        "# Plot observability over time"
      ],
      "metadata": {
        "id": "twEhzRb0gUsq"
      },
      "id": "twEhzRb0gUsq"
    },
    {
      "cell_type": "code",
      "source": [
        "states = list(SFO.FO[0].O.columns)\n",
        "n_state = len(states)\n",
        "\n",
        "fig, ax = plt.subplots(n_state, 2, figsize=(6, n_state*2), dpi=150, sharex=True)\n",
        "ax = np.atleast_2d(ax)\n",
        "\n",
        "cmap = 'inferno_r'\n",
        "\n",
        "min_ev = np.min(EV_no_nan.iloc[:, 2:].values)\n",
        "max_ev = np.max(EV_no_nan.iloc[:, 2:].values)\n",
        "\n",
        "log_tick_high = int(np.ceil(np.log10(max_ev)))\n",
        "log_tick_low = int(np.floor(np.log10(min_ev)))\n",
        "cnorm = mpl.colors.LogNorm(10**log_tick_low, 10**log_tick_high)\n",
        "\n",
        "for n, state_name in enumerate(states):\n",
        "    pybounds.colorline(t_sim, x_sim[state_name], EV_no_nan[state_name].values, ax=ax[n, 0], cmap=cmap, norm=cnorm)\n",
        "    pybounds.colorline(t_sim, EV_no_nan[state_name].values, EV_no_nan[state_name].values, ax=ax[n, 1], cmap=cmap, norm=cnorm)\n",
        "\n",
        "    # Colorbar\n",
        "    cax = ax[n, -1].inset_axes([1.03, 0.0, 0.04, 1.0])\n",
        "    cbar = fig.colorbar(mpl.cm.ScalarMappable(norm=cnorm, cmap=cmap), cax=cax,\n",
        "                        ticks=np.logspace(log_tick_low, log_tick_high, log_tick_high-log_tick_low + 1))\n",
        "    cbar.set_label('min. EV: ' + state_name, rotation=270, fontsize=7, labelpad=8)\n",
        "    cbar.ax.tick_params(labelsize=6)\n",
        "\n",
        "    x_max = np.max(x_sim[state_name])\n",
        "    x_min = np.min(x_sim[state_name])\n",
        "\n",
        "    ax[n, 0].set_ylim(x_min - 0.1, x_max + 0.1)\n",
        "    ax[n, 0].set_ylabel('state: ' + state_name, fontsize=7)\n",
        "\n",
        "    ax[n, 1].set_ylim(10**log_tick_low, 10**log_tick_high)\n",
        "    ax[n, 1].set_yscale('log')\n",
        "    ax[n, 1].set_ylabel('min. EV: ' + state_name, fontsize=7)\n",
        "    ax[n, 1].set_yticks(np.logspace(log_tick_low, log_tick_high, log_tick_high-log_tick_low + 1))\n",
        "\n",
        "for a in ax.flat:\n",
        "    a.tick_params(axis='both', labelsize=6)\n",
        "    a.set_xlabel('time (s)', fontsize=7)\n",
        "    offset = t_sim[-1] * 0.05\n",
        "    a.set_xlim(-offset, t_sim[-1] + offset)\n",
        "\n",
        "fig.subplots_adjust(left=None, bottom=None, right=None, top=None, wspace=0.3, hspace=0.4)"
      ],
      "metadata": {
        "id": "VDZu-owAgWaj"
      },
      "id": "VDZu-owAgWaj",
      "execution_count": null,
      "outputs": []
    },
    {
      "cell_type": "markdown",
      "source": [
        "# Plot controls"
      ],
      "metadata": {
        "id": "2AI8F_zi6SyX"
      },
      "id": "2AI8F_zi6SyX"
    },
    {
      "cell_type": "code",
      "source": [
        "plt.plot(t_sim, u_sim['du_F'], label='du_F', color='red')\n",
        "plt.plot(t_sim, u_sim['du_tau'], label='du_tau', color='yellow')\n",
        "plt.title('Controls')\n",
        "# simulator.plot('setpoint')\n",
        "plt.legend()\n",
        "plt.show()"
      ],
      "metadata": {
        "id": "LA2M_mQ36OBv"
      },
      "id": "LA2M_mQ36OBv",
      "execution_count": null,
      "outputs": []
    }
  ],
  "metadata": {
    "colab": {
      "provenance": []
    },
    "kernelspec": {
      "display_name": "PY38",
      "language": "python",
      "name": "py38"
    },
    "language_info": {
      "codemirror_mode": {
        "name": "ipython",
        "version": 3
      },
      "file_extension": ".py",
      "mimetype": "text/x-python",
      "name": "python",
      "nbconvert_exporter": "python",
      "pygments_lexer": "ipython3",
      "version": "3.8.6"
    }
  },
  "nbformat": 4,
  "nbformat_minor": 5
}